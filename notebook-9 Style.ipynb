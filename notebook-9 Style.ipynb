{
 "cells": [
  {
   "cell_type": "markdown",
   "metadata": {},
   "source": [
    "# Notebook-9: Style"
   ]
  },
  {
   "cell_type": "markdown",
   "metadata": {},
   "source": [
    "### Lesson Content \n",
    "\n",
    "- Style\n",
    "    - Why style matters\n",
    "    - Python style\n",
    "\n",
    "Welcome to the ninth and _last_ Code Camp notebook! In this lesson we'll cover things that don't fit anywhere else but which are essential to getting you on your way as a beginner programmer.\n"
   ]
  },
  {
   "cell_type": "markdown",
   "metadata": {},
   "source": [
    "## Style\n",
    "\n",
    "As with any other type of creative writing -- make no mistake, writing code is a creative activity! -- different people have different styles of writing. Extending the language metaphor, different programming languages have different styles as well and you can often tell what programming language someone learned first (or best) by the way they write their code in _any_ programming language. While it's _nice_ to work in the style that is considered 'best' in each language, what is more important is that you are consistent in how you write: that way, another person reading your code can get used to the way that you write and make better sense of what you're trying to do.\n",
    "\n",
    "### Variable Names\n",
    "\n",
    "So here are some common styles for variable names:\n",
    "\n",
    "| Variable Name | Language | Rationale |\n",
    "|:--------------|:---------|:----------|\n",
    "| my_variable | Python, Perl | Underscores (\"\\_\") make it easy to read 'words' in a variable name |\n",
    "| MyVariable | Java | Mixed Caps makes for shorter variable names that are easier to type |\n",
    "| my.variable | R | R allows full-stops in variable names, no other language does |\n",
    "\n",
    "### Comments\n",
    "\n",
    "Commenting code that they've written is something that programmers normally hate doing, because it's not _doing_ work after all... until you have to try to understand what you've done and why two days or two months later. You'd be surprised how quickly your memory of _why_ you did something one way, and not another, will fade and, with it, the risks that you were trying to avoid. It doesn't matter how clear your variable names are (_e.g._ `url_to_get` or `do_not_do_this`) you will eventually forget what is going on. Comments help you to avoid this, and they also allow you to write more concise, efficient code because your variable and function names don't have to do all the heavy lifting of explanation as well!\n",
    "\n",
    "How to comment well:\n",
    "\n",
    "- There are as many ways of commenting well as there are ways of writing code well -- the point is to be clear and consistent.\n",
    "- You might think of adding a _short_ comment on the end of a line of code if that line is doing something complex and not immediately obvious:\n",
    "```python\n",
    "import random\n",
    "random.seed(123456789) # For reproducibility\n",
    "```\n",
    "- You might think of adding a one-line or multi-line comment at the start of a _block_ of code that is achieving something specific:\n",
    "```python\n",
    "# Create a new data frame to \n",
    "# hold the percentage values\n",
    "# and initialise it with only\n",
    "# the 'mnemonic' (i.e. GeoCode)\n",
    "d_pct = pd.concat(\n",
    "    [d[t]['mnemonic']], \n",
    "    axis=1, \n",
    "    keys=['mnemonic'])\n",
    "```\n",
    "- You might think of using some formatting for a long _section_ of code that forms a key stage of your analysis:\n",
    "```python\n",
    "##############################\n",
    "# This next section deals with\n",
    "# extracting data from \n",
    "# CityData and tidying\n",
    "# up the values so that they work\n",
    "# with pandas.\n",
    "##############################\n",
    "```\n",
    "- Finally, you can also use multi-line strings as a kind of comment format:\n",
    "```python\n",
    "\"\"\"\n",
    "=========================================================\n",
    "Extract pd2-level data from the price paid medians data\n",
    "=========================================================\n",
    "\"\"\"\n",
    "```\n",
    "\n",
    "Many programmers will mix all of these different styles together, but they will do so in a consistent way: the more complex the formatting and layout of the comment, the larger the block of code to which the comment applies.\n",
    "\n",
    "### Why Style Matters\n",
    "\n",
    "As we said at the start, style matters because it makes your code _intelligible_ to you, and to others. For professional programmers that is incredibly important because almost no one works on their own any more: applications are too complex for one programmer to get very far. So programmers need others to be able to read and interpret the code that they've written. As well, you might be asked to (or want to) go back to make changes to some code that you wrote some time ago -- if you've not commented your code or used a consistent style you're much more likely to break things. You might have heard of the Facebook motto \"Move fast and break things\" -- that doesn't refer to Facebook's web application, it refers to _paradigms_. \n",
    "\n",
    "![Jobs I've Been Fired From](https://imgs.xkcd.com/comics/move_fast_and_break_things.png)\n"
   ]
  },
  {
   "cell_type": "markdown",
   "metadata": {
    "collapsed": true
   },
   "source": [
    "**Congratulations on finishing the Code Camp!**"
   ]
  },
  {
   "cell_type": "markdown",
   "metadata": {},
   "source": [
    "\n",
    "### Further references:\n",
    "\n",
    "General list or resources\n",
    "- [Awesome list of resources](https://github.com/vinta/awesome-python)\n",
    "- [Python Docs](https://docs.python.org/2.7/tutorial/introduction.html)\n",
    "- [HitchHiker's guide to Python](http://docs.python-guide.org/en/latest/intro/learning/)\n",
    "- [Python for Informatics](http://www.pythonlearn.com/book_007.pdf)\n",
    "- [Learn Python the Hard Way - Lists](http://learnpythonthehardway.org/book/ex32.html)\n",
    "- [Learn Python the Hard Way - Dictionaries](http://learnpythonthehardway.org/book/ex39.html)\n",
    "- [CodeAcademy](https://www.codecademy.com/courses/python-beginner-en-pwmb1/0/1)\n",
    "\n"
   ]
  },
  {
   "cell_type": "markdown",
   "metadata": {},
   "source": [
    "*The content and structure of this teaching project itself is licensed under the [Creative Commons Attribution-NonCommercial-ShareAlike 4.0 license](https://creativecommons.org/licenses/by-nc-sa/4.0/) , and the contributing source code is licensed under [The MIT License](https://opensource.org/licenses/mit-license.php).   *"
   ]
  }
 ],
 "metadata": {
  "kernelspec": {
   "display_name": "Python 3",
   "language": "python",
   "name": "python3"
  },
  "language_info": {
   "codemirror_mode": {
    "name": "ipython",
    "version": 3
   },
   "file_extension": ".py",
   "mimetype": "text/x-python",
   "name": "python",
   "nbconvert_exporter": "python",
   "pygments_lexer": "ipython3",
   "version": "3.6.1"
  }
 },
 "nbformat": 4,
 "nbformat_minor": 2
}
